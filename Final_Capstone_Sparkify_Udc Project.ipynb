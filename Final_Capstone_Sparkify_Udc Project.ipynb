{
 "cells": [
  {
   "cell_type": "markdown",
   "metadata": {},
   "source": [
    "# Sparkify Project Workspace\n",
    "This workspace contains a tiny subset (128MB) of the full dataset available (12GB). Feel free to use this workspace to build your project, or to explore a smaller subset with Spark before deploying your cluster on the cloud. Instructions for setting up your Spark cluster is included in the last lesson of the Extracurricular Spark Course content.\n",
    "\n",
    "You can follow the steps below to guide your data analysis and model building portion of this project."
   ]
  },
  {
   "cell_type": "markdown",
   "metadata": {},
   "source": [
    "Project Instructions\n",
    "The full dataset is 12GB, of which you can analyze a mini subset in the workspace on the following page. Optionally, you can choose to follow the instructions in the Extracurricular course to deploy a Spark cluster on the cloud using AWS or IBM Cloud to analyze a larger amount of data. Currently we have the full 12GB dataset available to you if you use AWS. If you use IBM, you can download a medium sized dataset to upload to your cluster.\n",
    "\n",
    "Details on how to do this using AWS or IBM Cloud are included in the last lesson of the Extracurricular Spark Course content linked above. Note that this part is optional, and you will not receive credits to fund your deployment. You can do the IBM portion for free. Using AWS will cost you around $30 if you run a cluster up for a week with the settings we provide.\n",
    "\n",
    "Once you've built your model, either in the classroom workspace or in the cloud with AWS or IBM, download your notebook and complete the remaining components of your Data Scientist Capstone project, including thorough documentation in a README file in your Github repository, as well as a web app or blog post explaining the technical details of your project. Be sure to review the Project Rubric thoroughly before submitting your project."
   ]
  },
  {
   "cell_type": "code",
   "execution_count": 1,
   "metadata": {},
   "outputs": [],
   "source": [
    "# import libraries\n",
    "# import libraries\n",
    "from pyspark.sql import SparkSession\n",
    "from pyspark.sql.functions import avg, col, concat, desc, explode, lit, min, max, split, udf\n",
    "from pyspark.sql.types import IntegerType\n",
    "from pyspark.sql.functions import split\n",
    "from pyspark.sql.window import Window\n",
    "from pyspark.sql.functions import countDistinct as fcountDistinct\n",
    "from pyspark.sql.functions import sum as fsum\n",
    "from pyspark.sql.functions import min as fmin\n",
    "from pyspark.sql.functions import max as fmax\n",
    "from pyspark.sql.functions import count as fcount\n",
    "from pyspark.ml import Pipeline\n",
    "from pyspark.ml.classification import LogisticRegression, RandomForestClassifier, GBTClassifier, LinearSVC\n",
    "from pyspark.ml.evaluation import MulticlassClassificationEvaluator\n",
    "from pyspark.ml.feature import CountVectorizer, IDF, Normalizer, StandardScaler, StringIndexer, VectorAssembler\n",
    "from pyspark.ml.tuning import CrossValidator, ParamGridBuilder\n",
    "import pyspark.sql.functions as f\n",
    "import pandas as pd\n",
    "import numpy as np\n",
    "import time\n",
    "import datetime\n",
    "import seaborn as sns\n",
    "import matplotlib.pyplot as plt\n",
    "from statsmodels.stats.proportion import proportions_ztest\n",
    "from pyspark.sql.functions import when, col\n",
    "# create a Spark session\n",
    "spark = SparkSession.builder \\\n",
    "    .master(\"local\") \\\n",
    "    .appName(\"Creating Features\") \\\n",
    "    .getOrCreate()"
   ]
  },
  {
   "cell_type": "code",
   "execution_count": 2,
   "metadata": {
    "scrolled": true
   },
   "outputs": [
    {
     "data": {
      "text/html": [
       "\n",
       "            <div>\n",
       "                <p><b>SparkSession - in-memory</b></p>\n",
       "                \n",
       "        <div>\n",
       "            <p><b>SparkContext</b></p>\n",
       "\n",
       "            <p><a href=\"http://c34274ef8d999ea40fbf32eb3b7d499cd8fa1b37-9785984c4-xrwdx:4040\">Spark UI</a></p>\n",
       "\n",
       "            <dl>\n",
       "              <dt>Version</dt>\n",
       "                <dd><code>v2.4.3</code></dd>\n",
       "              <dt>Master</dt>\n",
       "                <dd><code>local</code></dd>\n",
       "              <dt>AppName</dt>\n",
       "                <dd><code>Creating Features</code></dd>\n",
       "            </dl>\n",
       "        </div>\n",
       "        \n",
       "            </div>\n",
       "        "
      ],
      "text/plain": [
       "<pyspark.sql.session.SparkSession at 0x7f3133722390>"
      ]
     },
     "execution_count": 2,
     "metadata": {},
     "output_type": "execute_result"
    }
   ],
   "source": [
    "spark"
   ]
  },
  {
   "cell_type": "markdown",
   "metadata": {},
   "source": [
    "# Load and Clean Dataset\n",
    "In this workspace, the mini-dataset file is `mini_sparkify_event_data.json`. Load and clean the dataset, checking for invalid or missing data - for example, records without userids or sessionids. "
   ]
  },
  {
   "cell_type": "code",
   "execution_count": 3,
   "metadata": {},
   "outputs": [],
   "source": [
    "# dataset_path\n",
    "stack_overflow_data = 'mini_sparkify_event_data.json'\n",
    "\n",
    "## read the data \n",
    "df = spark.read.json(stack_overflow_data)"
   ]
  },
  {
   "cell_type": "code",
   "execution_count": 4,
   "metadata": {},
   "outputs": [
    {
     "name": "stdout",
     "output_type": "stream",
     "text": [
      "+-------+------------------+----------+---------+------+------------------+--------+-----------------+------+-----------------+------+-------+--------------------+-----------------+--------------------+------------------+--------------------+--------------------+-----------------+\n",
      "|summary|            artist|      auth|firstName|gender|     itemInSession|lastName|           length| level|         location|method|   page|        registration|        sessionId|                song|            status|                  ts|           userAgent|           userId|\n",
      "+-------+------------------+----------+---------+------+------------------+--------+-----------------+------+-----------------+------+-------+--------------------+-----------------+--------------------+------------------+--------------------+--------------------+-----------------+\n",
      "|  count|            228108|    286500|   278154|278154|            286500|  278154|           228108|286500|           278154|286500| 286500|              278154|           286500|              228108|            286500|              286500|              278154|           286500|\n",
      "|   mean| 551.0852017937219|      null|     null|  null|114.41421291448516|    null|249.1171819778458|  null|             null|  null|   null|1.535358834084427...|1041.526554973822|            Infinity|210.05459685863875|1.540956889810483...|                null|59682.02278593872|\n",
      "| stddev|1217.7693079161374|      null|     null|  null|129.76726201140994|    null|99.23517921058361|  null|             null|  null|   null| 3.291321616327586E9|726.7762634630741|                 NaN| 31.50507848842214|1.5075439608226302E9|                null|109091.9499991047|\n",
      "|    min|               !!!| Cancelled| Adelaida|     F|                 0|   Adams|          0.78322|  free|       Albany, OR|   GET|  About|       1521380675000|                1|\u001c",
      "ÃÂg ÃÂtti Gr...|               200|       1538352117000|\"Mozilla/5.0 (Mac...|                 |\n",
      "|    max| ÃÂlafur Arnalds|Logged Out|   Zyonna|     M|              1321|  Wright|       3024.66567|  paid|Winston-Salem, NC|   PUT|Upgrade|       1543247354000|             2474|ÃÂau hafa slopp...|               404|       1543799476000|Mozilla/5.0 (comp...|               99|\n",
      "+-------+------------------+----------+---------+------+------------------+--------+-----------------+------+-----------------+------+-------+--------------------+-----------------+--------------------+------------------+--------------------+--------------------+-----------------+\n",
      "\n"
     ]
    }
   ],
   "source": [
    "# Basic show\n",
    "df.describe().show()"
   ]
  },
  {
   "cell_type": "code",
   "execution_count": 5,
   "metadata": {
    "scrolled": true
   },
   "outputs": [
    {
     "name": "stdout",
     "output_type": "stream",
     "text": [
      "root\n",
      " |-- artist: string (nullable = true)\n",
      " |-- auth: string (nullable = true)\n",
      " |-- firstName: string (nullable = true)\n",
      " |-- gender: string (nullable = true)\n",
      " |-- itemInSession: long (nullable = true)\n",
      " |-- lastName: string (nullable = true)\n",
      " |-- length: double (nullable = true)\n",
      " |-- level: string (nullable = true)\n",
      " |-- location: string (nullable = true)\n",
      " |-- method: string (nullable = true)\n",
      " |-- page: string (nullable = true)\n",
      " |-- registration: long (nullable = true)\n",
      " |-- sessionId: long (nullable = true)\n",
      " |-- song: string (nullable = true)\n",
      " |-- status: long (nullable = true)\n",
      " |-- ts: long (nullable = true)\n",
      " |-- userAgent: string (nullable = true)\n",
      " |-- userId: string (nullable = true)\n",
      "\n"
     ]
    }
   ],
   "source": [
    "# check all columns\n",
    "df.printSchema()"
   ]
  },
  {
   "cell_type": "code",
   "execution_count": 6,
   "metadata": {},
   "outputs": [
    {
     "name": "stdout",
     "output_type": "stream",
     "text": [
      "+----------------+---------+---------+------+-------------+--------+---------+-----+------------------------------+------+--------+-------------+---------+-----------------------------+------+-------------+---------------------------------------------------------------------------------------------------------------+------+\n",
      "|artist          |auth     |firstName|gender|itemInSession|lastName|length   |level|location                      |method|page    |registration |sessionId|song                         |status|ts           |userAgent                                                                                                      |userId|\n",
      "+----------------+---------+---------+------+-------------+--------+---------+-----+------------------------------+------+--------+-------------+---------+-----------------------------+------+-------------+---------------------------------------------------------------------------------------------------------------+------+\n",
      "|Martha Tilston  |Logged In|Colin    |M     |50           |Freeman |277.89016|paid |Bakersfield, CA               |PUT   |NextSong|1538173362000|29       |Rockpools                    |200   |1538352117000|Mozilla/5.0 (Windows NT 6.1; WOW64; rv:31.0) Gecko/20100101 Firefox/31.0                                       |30    |\n",
      "|Five Iron Frenzy|Logged In|Micah    |M     |79           |Long    |236.09424|free |Boston-Cambridge-Newton, MA-NH|PUT   |NextSong|1538331630000|8        |Canada                       |200   |1538352180000|\"Mozilla/5.0 (Windows NT 6.1; WOW64) AppleWebKit/537.36 (KHTML, like Gecko) Chrome/37.0.2062.103 Safari/537.36\"|9     |\n",
      "|Adam Lambert    |Logged In|Colin    |M     |51           |Freeman |282.8273 |paid |Bakersfield, CA               |PUT   |NextSong|1538173362000|29       |Time For Miracles            |200   |1538352394000|Mozilla/5.0 (Windows NT 6.1; WOW64; rv:31.0) Gecko/20100101 Firefox/31.0                                       |30    |\n",
      "|Enigma          |Logged In|Micah    |M     |80           |Long    |262.71302|free |Boston-Cambridge-Newton, MA-NH|PUT   |NextSong|1538331630000|8        |Knocking On Forbidden Doors  |200   |1538352416000|\"Mozilla/5.0 (Windows NT 6.1; WOW64) AppleWebKit/537.36 (KHTML, like Gecko) Chrome/37.0.2062.103 Safari/537.36\"|9     |\n",
      "|Daft Punk       |Logged In|Colin    |M     |52           |Freeman |223.60771|paid |Bakersfield, CA               |PUT   |NextSong|1538173362000|29       |Harder Better Faster Stronger|200   |1538352676000|Mozilla/5.0 (Windows NT 6.1; WOW64; rv:31.0) Gecko/20100101 Firefox/31.0                                       |30    |\n",
      "+----------------+---------+---------+------+-------------+--------+---------+-----+------------------------------+------+--------+-------------+---------+-----------------------------+------+-------------+---------------------------------------------------------------------------------------------------------------+------+\n",
      "only showing top 5 rows\n",
      "\n",
      "CPU times: user 2.01 ms, sys: 3 µs, total: 2.02 ms\n",
      "Wall time: 825 ms\n"
     ]
    }
   ],
   "source": [
    "%%time\n",
    "# show the 5 row data \n",
    "df.show(5, truncate = False)"
   ]
  },
  {
   "cell_type": "code",
   "execution_count": 7,
   "metadata": {},
   "outputs": [
    {
     "name": "stdout",
     "output_type": "stream",
     "text": [
      "(286500, 18)\n"
     ]
    }
   ],
   "source": [
    "# data dimensionality\n",
    "print((df.count(), len(df.columns)))"
   ]
  },
  {
   "cell_type": "code",
   "execution_count": 8,
   "metadata": {},
   "outputs": [
    {
     "name": "stdout",
     "output_type": "stream",
     "text": [
      "Column 'artist' has 58392 null values.\n",
      "Column 'auth' has 0 null values.\n",
      "Column 'firstName' has 8346 null values.\n",
      "Column 'gender' has 8346 null values.\n",
      "Column 'itemInSession' has 0 null values.\n",
      "Column 'lastName' has 8346 null values.\n",
      "Column 'length' has 58392 null values.\n",
      "Column 'level' has 0 null values.\n",
      "Column 'location' has 8346 null values.\n",
      "Column 'method' has 0 null values.\n",
      "Column 'page' has 0 null values.\n",
      "Column 'registration' has 8346 null values.\n",
      "Column 'sessionId' has 0 null values.\n",
      "Column 'song' has 58392 null values.\n",
      "Column 'status' has 0 null values.\n",
      "Column 'ts' has 0 null values.\n",
      "Column 'userAgent' has 8346 null values.\n",
      "Column 'userId' has 0 null values.\n"
     ]
    }
   ],
   "source": [
    "from pyspark.sql.functions import col\n",
    "\n",
    "# Check null values in each column\n",
    "for column in df.columns:\n",
    "    null_count = df.filter(col(column).isNull()).count()\n",
    "    print(f\"Column '{column}' has {null_count} null values.\")\n"
   ]
  },
  {
   "cell_type": "code",
   "execution_count": 9,
   "metadata": {},
   "outputs": [
    {
     "name": "stdout",
     "output_type": "stream",
     "text": [
      "No duplicate rows found.\n"
     ]
    }
   ],
   "source": [
    "from pyspark.sql import SparkSession\n",
    "from pyspark.sql.functions import from_unixtime, col\n",
    "\n",
    "def data_wrangling(df):\n",
    "    \"\"\"\n",
    "    Perform data cleaning operations on the input DataFrame.\n",
    "    **Some step to cleans up**\n",
    "    - Dropped the redundant Unnamed: 0 column.\n",
    "    - Dropped rows where userId is missing.\n",
    "    - Checked for duplicate rows;\n",
    "    - Converted the ts and registration columns from epoch format to a human-readable date-time format.\n",
    "\n",
    "    Args:\n",
    "    - df (DataFrame): Input Spark DataFrame\n",
    "\n",
    "    Returns:\n",
    "    - DataFrame: Cleaned Spark DataFrame\n",
    "    \"\"\"\n",
    "\n",
    "    # 1. Check for Duplicate Rows\n",
    "    duplicate_count = df.count() - df.dropDuplicates().count()\n",
    "\n",
    "    if duplicate_count > 0:\n",
    "        print(f\"Found {duplicate_count} duplicate rows.\")\n",
    "        df.select(df.columns).groupBy(df.columns).count().filter(\"count > 1\").show(truncate=False)\n",
    "    else:\n",
    "        print(\"No duplicate rows found.\")\n",
    "    \n",
    "    # 2. Drop Redundant Columns\n",
    "    # 'Unnamed: 0' column might not exist in all datasets. So, handle potential errors.\n",
    "    try:\n",
    "        df = df.drop('Unnamed: 0')\n",
    "    except:\n",
    "        print(\"'Unnamed: 0' column not found. Skipping drop.\")\n",
    "    \n",
    "    # 3. Handle Missing Values\n",
    "    df = df.dropna(subset=['userId'])\n",
    "\n",
    "    # 4. Check for Duplicate Rows and Remove\n",
    "    df = df.dropDuplicates()\n",
    "\n",
    "    # 5. Data Type Conversion\n",
    "    df = df.withColumn(\"ts\", from_unixtime(col(\"ts\")/1000))\n",
    "    df = df.withColumn(\"registration\", from_unixtime(col(\"registration\")/1000))\n",
    "    \n",
    "    # 6 handling null values in some columns\n",
    "    # List of columns with null values\n",
    "    columns_with_null = [\"firstName\", \"gender\", \"lastName\", \"location\", \"registration\", \"userAgent\"]\n",
    "\n",
    "    # Drop rows with null values in specified columns\n",
    "    for column in columns_with_null:\n",
    "        df = df.filter(col(column).isNotNull())\n",
    "    \n",
    "    df = df.withColumn(\"length\", when(col(\"length\").isNull(), 0).otherwise(col(\"length\")))\n",
    "    \n",
    "    return df\n",
    "\n",
    "\n",
    "df = data_wrangling(df)\n"
   ]
  },
  {
   "cell_type": "code",
   "execution_count": 10,
   "metadata": {
    "scrolled": true
   },
   "outputs": [
    {
     "name": "stdout",
     "output_type": "stream",
     "text": [
      "(278154, 18)\n"
     ]
    }
   ],
   "source": [
    "# data dimensionality\n",
    "print((df.count(), len(df.columns)))"
   ]
  },
  {
   "cell_type": "code",
   "execution_count": 11,
   "metadata": {},
   "outputs": [
    {
     "name": "stdout",
     "output_type": "stream",
     "text": [
      "Column 'artist' has 50046 null values.\n",
      "Column 'auth' has 0 null values.\n",
      "Column 'firstName' has 0 null values.\n",
      "Column 'gender' has 0 null values.\n",
      "Column 'itemInSession' has 0 null values.\n",
      "Column 'lastName' has 0 null values.\n",
      "Column 'length' has 0 null values.\n",
      "Column 'level' has 0 null values.\n",
      "Column 'location' has 0 null values.\n",
      "Column 'method' has 0 null values.\n",
      "Column 'page' has 0 null values.\n",
      "Column 'registration' has 0 null values.\n",
      "Column 'sessionId' has 0 null values.\n",
      "Column 'song' has 50046 null values.\n",
      "Column 'status' has 0 null values.\n",
      "Column 'ts' has 0 null values.\n",
      "Column 'userAgent' has 0 null values.\n",
      "Column 'userId' has 0 null values.\n"
     ]
    }
   ],
   "source": [
    "# after cleansing\n",
    "\n",
    "# Check null values in each column\n",
    "for column in df.columns:\n",
    "    null_count = df.filter(col(column).isNull()).count()\n",
    "    print(f\"Column '{column}' has {null_count} null values.\")"
   ]
  },
  {
   "cell_type": "code",
   "execution_count": 12,
   "metadata": {},
   "outputs": [],
   "source": [
    "# from pyspark.sql.functions import avg\n",
    "\n",
    "# # Ensure 'ts' is of type Long\n",
    "# df = df.withColumn(\"ts\", df[\"ts\"].cast(\"long\"))\n",
    "\n",
    "# # Check the presence of Churn events\n",
    "# churn_counts = df.groupBy(\"Churn\").count().collect()\n",
    "\n",
    "# # If both churned and non-churned users are present:\n",
    "# if len(churn_counts) > 1:\n",
    "    \n",
    "#     # Calculate the session duration\n",
    "#     session_end = df.groupBy(\"userId\", \"sessionId\", \"Churn\") \\\n",
    "#                    .agg(((max(\"ts\") - min(\"ts\")) / (1000 * 60)).alias(\"session_duration_minutes\"))\n",
    "\n",
    "#     session_end.groupby(\"Churn\").agg(avg(\"session_duration_minutes\"), \n",
    "#                                      stddev(\"session_duration_minutes\"), \n",
    "#                                      max(\"session_duration_minutes\"), \n",
    "#                                      min(\"session_duration_minutes\")).show()\n",
    "# else:\n",
    "#     print(f\"There are only users with Churn = {churn_counts[0]['Churn']} in the dataset.\")\n"
   ]
  },
  {
   "cell_type": "code",
   "execution_count": 13,
   "metadata": {
    "scrolled": true
   },
   "outputs": [
    {
     "name": "stdout",
     "output_type": "stream",
     "text": [
      "root\n",
      " |-- ts: string (nullable = true)\n",
      " |-- registration: string (nullable = true)\n",
      "\n"
     ]
    }
   ],
   "source": [
    "# show ts and registration schema\n",
    "df.select(\"ts\", \"registration\").printSchema()"
   ]
  },
  {
   "cell_type": "code",
   "execution_count": 14,
   "metadata": {},
   "outputs": [
    {
     "name": "stdout",
     "output_type": "stream",
     "text": [
      "+------+---------+-------------------+-------------------+\n",
      "|userId|sessionId|                 ts|       registration|\n",
      "+------+---------+-------------------+-------------------+\n",
      "|    78|      187|2018-10-01 05:52:13|2018-09-30 10:47:35|\n",
      "|    78|      187|2018-10-01 05:52:14|2018-09-30 10:47:35|\n",
      "|    25|      222|2018-10-01 09:08:44|2018-09-07 02:24:59|\n",
      "|    15|      237|2018-10-01 11:54:38|2018-09-29 16:37:25|\n",
      "|    27|       26|2018-10-01 14:00:23|2018-08-14 11:26:36|\n",
      "|    51|      236|2018-10-01 14:49:15|2018-09-27 20:43:07|\n",
      "|    93|      202|2018-10-01 16:33:17|2018-09-20 22:56:40|\n",
      "|    81|      225|2018-10-01 17:08:57|2018-08-24 06:49:27|\n",
      "|    54|      260|2018-10-01 19:04:55|2018-07-25 01:37:42|\n",
      "|    53|       52|2018-10-01 19:30:28|2018-09-27 12:09:24|\n",
      "|    51|      236|2018-10-01 19:41:49|2018-09-27 20:43:07|\n",
      "|   115|      215|2018-10-01 20:09:36|2018-09-14 18:03:01|\n",
      "|   115|      215|2018-10-01 20:42:28|2018-09-14 18:03:01|\n",
      "|    98|      302|2018-10-01 21:57:44|2018-09-27 17:33:58|\n",
      "|   142|      141|2018-10-01 23:07:00|2018-09-28 07:47:39|\n",
      "|    92|      298|2018-10-01 23:27:12|2018-09-08 10:52:52|\n",
      "|   124|      123|2018-10-02 00:25:18|2018-07-22 01:52:15|\n",
      "|    29|       28|2018-10-02 01:23:27|2018-09-15 05:07:21|\n",
      "|    87|      300|2018-10-02 06:40:51|2018-08-22 12:48:02|\n",
      "|   124|      123|2018-10-02 08:37:29|2018-07-22 01:52:15|\n",
      "+------+---------+-------------------+-------------------+\n",
      "only showing top 20 rows\n",
      "\n"
     ]
    }
   ],
   "source": [
    "# head 20 for timestamp data\n",
    "df.select(\"userId\", \"sessionId\", \"ts\", \"registration\").show(20)"
   ]
  },
  {
   "cell_type": "code",
   "execution_count": 15,
   "metadata": {},
   "outputs": [],
   "source": [
    "# Reformat data type of ts and registration to timestamps\n",
    "df = df.withColumn(\"ts\", f.to_timestamp(\"ts\", \"yyyy-MM-dd HH:mm:ss\"))\n",
    "df = df.withColumn(\"registration\", f.to_timestamp(\"registration\", \"yyyy-MM-dd HH:mm:ss\"))"
   ]
  },
  {
   "cell_type": "markdown",
   "metadata": {},
   "source": [
    "# Exploratory Data Analysis\n",
    "When you're working with the full dataset, perform EDA by loading a small subset of the data and doing basic manipulations within Spark. In this workspace, you are already provided a small subset of data you can explore.\n",
    "\n",
    "### Define Churn\n",
    "\n",
    "Once you've done some preliminary analysis, create a column `Churn` to use as the label for your model. I suggest using the `Cancellation Confirmation` events to define your churn, which happen for both paid and free users. As a bonus task, you can also look into the `Downgrade` events.\n",
    "\n",
    "### Explore Data\n",
    "Once you've defined churn, perform some exploratory data analysis to observe the behavior for users who stayed vs users who churned. You can start by exploring aggregates on these two groups of users, observing how much of a specific action they experienced per a certain time unit or number of songs played."
   ]
  },
  {
   "cell_type": "markdown",
   "metadata": {},
   "source": [
    "## First Step : Churn Definition"
   ]
  },
  {
   "cell_type": "code",
   "execution_count": 16,
   "metadata": {},
   "outputs": [
    {
     "name": "stdout",
     "output_type": "stream",
     "text": [
      "+------+-----------+-----+\n",
      "|userId|       page|Churn|\n",
      "+------+-----------+-----+\n",
      "|100010|   NextSong|    0|\n",
      "|100010|   NextSong|    0|\n",
      "|100010|     Logout|    0|\n",
      "|100010|   NextSong|    0|\n",
      "|100010|Roll Advert|    0|\n",
      "|100010|   NextSong|    0|\n",
      "|100010|   NextSong|    0|\n",
      "|100010|   NextSong|    0|\n",
      "|100010|   NextSong|    0|\n",
      "|100010|   NextSong|    0|\n",
      "|100010|   NextSong|    0|\n",
      "|100010|   NextSong|    0|\n",
      "|100010|Roll Advert|    0|\n",
      "|100010|       Home|    0|\n",
      "|100010|   NextSong|    0|\n",
      "|100010|   NextSong|    0|\n",
      "|100010|   NextSong|    0|\n",
      "|100010|   NextSong|    0|\n",
      "|100010|   NextSong|    0|\n",
      "|100010|   NextSong|    0|\n",
      "+------+-----------+-----+\n",
      "only showing top 20 rows\n",
      "\n"
     ]
    }
   ],
   "source": [
    "from pyspark.sql.functions import col, lit, max\n",
    "\n",
    "# Add a column that is 1 if the event is \"Cancellation Confirmation\", 0 otherwise\n",
    "df = df.withColumn(\"churn_event\", (col(\"page\") == \"Cancellation Confirmation\").cast(\"int\"))\n",
    "\n",
    "# For each user, identify if they ever had a \"Cancellation Confirmation\" event\n",
    "user_churn = df.groupby(\"userId\").agg(max(\"churn_event\").alias(\"Churn\"))\n",
    "\n",
    "# Join the churn data back to the original dataset\n",
    "df = df.join(user_churn, on=\"userId\", how=\"left\")\n",
    "\n",
    "# Display some rows to verify\n",
    "df.select([\"userId\", \"page\", \"Churn\"]).show(20)"
   ]
  },
  {
   "cell_type": "markdown",
   "metadata": {},
   "source": [
    "## 1. EDA : User Level Statistics"
   ]
  },
  {
   "cell_type": "markdown",
   "metadata": {},
   "source": [
    "### a. Number of Songs Played"
   ]
  },
  {
   "cell_type": "code",
   "execution_count": 17,
   "metadata": {},
   "outputs": [
    {
     "name": "stdout",
     "output_type": "stream",
     "text": [
      "+-----+-------------------+\n",
      "|Churn|unique_songs_played|\n",
      "+-----+-------------------+\n",
      "|    1|              19216|\n",
      "|    0|              53336|\n",
      "+-----+-------------------+\n",
      "\n",
      "+-----+-----------------+\n",
      "|Churn|     avg_sessions|\n",
      "+-----+-----------------+\n",
      "|    1|613.3161777817404|\n",
      "|    0|1125.109816108706|\n",
      "+-----+-----------------+\n",
      "\n"
     ]
    }
   ],
   "source": [
    "from pyspark.sql.functions import avg, countDistinct\n",
    "\n",
    "# Count the number of unique songs played by users who churned vs those who did not\n",
    "song_counts = df.filter(col(\"page\") == \"NextSong\") \\\n",
    "                           .groupby(\"Churn\") \\\n",
    "                           .agg(countDistinct(\"song\").alias(\"unique_songs_played\"))\n",
    "\n",
    "song_counts.show()\n",
    "\n",
    "# Calculate the average number of events per user for those who churned vs those who did not\n",
    "event_counts = df.groupby(\"Churn\") \\\n",
    "                            .agg(avg(\"sessionId\").alias(\"avg_sessions\"))\n",
    "\n",
    "event_counts.show()"
   ]
  },
  {
   "cell_type": "markdown",
   "metadata": {},
   "source": [
    "## 2. Engagement Metrics"
   ]
  },
  {
   "cell_type": "markdown",
   "metadata": {},
   "source": [
    "### b. Session Duration"
   ]
  },
  {
   "cell_type": "code",
   "execution_count": 18,
   "metadata": {},
   "outputs": [
    {
     "name": "stdout",
     "output_type": "stream",
     "text": [
      "+-----+-----------------------------+-------------------------------------+-----------------------------+-----------------------------+\n",
      "|Churn|avg(session_duration_minutes)|stddev_samp(session_duration_minutes)|max(session_duration_minutes)|min(session_duration_minutes)|\n",
      "+-----+-----------------------------+-------------------------------------+-----------------------------+-----------------------------+\n",
      "|    1|           283.12153941651144|                   375.31925163016365|            3300.016666666667|                          0.0|\n",
      "|    0|            302.8553618794999|                    393.2417448405121|            4455.083333333333|                          0.0|\n",
      "+-----+-----------------------------+-------------------------------------+-----------------------------+-----------------------------+\n",
      "\n"
     ]
    }
   ],
   "source": [
    "from pyspark.sql.functions import unix_timestamp, avg, stddev, max, min\n",
    "\n",
    "# Convert the timestamp columns to Unix timestamp (number of seconds since 1970-01-01 00:00:00 UTC)\n",
    "session_end = df.groupBy(\"userId\", \"sessionId\", \"Churn\") \\\n",
    "    .agg(((unix_timestamp(max(\"ts\")) - unix_timestamp(min(\"ts\"))) / 60).alias(\"session_duration_minutes\"))\n",
    "\n",
    "# Aggregate session durations by churn status\n",
    "session_end.groupby(\"Churn\").agg(avg(\"session_duration_minutes\"), \n",
    "                                 stddev(\"session_duration_minutes\"), \n",
    "                                 max(\"session_duration_minutes\"), \n",
    "                                 min(\"session_duration_minutes\")).show()\n"
   ]
  },
  {
   "cell_type": "markdown",
   "metadata": {},
   "source": [
    "#### a. Number of Thumbs Up, Thumbs Down, Adds to Playlist, and Friend Additions"
   ]
  },
  {
   "cell_type": "code",
   "execution_count": 19,
   "metadata": {},
   "outputs": [
    {
     "name": "stdout",
     "output_type": "stream",
     "text": [
      "+-----+------------------+------------------+--------------------+------------------+\n",
      "|Churn|    avg(Thumbs Up)|  avg(Thumbs Down)|avg(Add to Playlist)|   avg(Add Friend)|\n",
      "+-----+------------------+------------------+--------------------+------------------+\n",
      "|    1|36.450980392156865|  9.72549019607843|  20.352941176470587|12.470588235294118|\n",
      "|    0| 62.89411764705882|12.058823529411764|   32.28235294117647| 21.41764705882353|\n",
      "+-----+------------------+------------------+--------------------+------------------+\n",
      "\n"
     ]
    }
   ],
   "source": [
    "# Engagement actions\n",
    "engagement_features = [\"Thumbs Up\", \"Thumbs Down\", \"Add to Playlist\", \"Add Friend\"]\n",
    "\n",
    "# Calculate engagement metrics for each user\n",
    "engagement_data = df.filter(col(\"page\").isin(engagement_features)) \\\n",
    "                               .groupBy(\"userId\", \"Churn\", \"page\") \\\n",
    "                               .count()\n",
    "\n",
    "# Pivot table for better readability\n",
    "engagement_data = engagement_data.groupby(\"userId\", \"Churn\").pivot(\"page\").sum(\"count\").fillna(0)\n",
    "\n",
    "engagement_data.groupby(\"Churn\").agg(avg(\"Thumbs Up\"), \n",
    "                                     avg(\"Thumbs Down\"), \n",
    "                                     avg(\"Add to Playlist\"), \n",
    "                                     avg(\"Add Friend\")).show()\n"
   ]
  },
  {
   "cell_type": "markdown",
   "metadata": {},
   "source": [
    "### 3. Account Information"
   ]
  },
  {
   "cell_type": "markdown",
   "metadata": {},
   "source": [
    "### a. Subscription Type (Free/Paid)"
   ]
  },
  {
   "cell_type": "code",
   "execution_count": 20,
   "metadata": {},
   "outputs": [
    {
     "name": "stdout",
     "output_type": "stream",
     "text": [
      "+-----+-----+-----+\n",
      "|Churn|level|count|\n",
      "+-----+-----+-----+\n",
      "|    0| free|   90|\n",
      "|    0| paid|   83|\n",
      "|    1| paid|   21|\n",
      "|    1| free|   31|\n",
      "+-----+-----+-----+\n",
      "\n"
     ]
    }
   ],
   "source": [
    "# Calculate the distribution of free vs. paid users for those who churned and those who did not\n",
    "df.dropDuplicates([\"userId\"]).groupBy(\"Churn\", \"level\").count().show()"
   ]
  },
  {
   "cell_type": "markdown",
   "metadata": {},
   "source": [
    "### b. Duration Since Registration"
   ]
  },
  {
   "cell_type": "code",
   "execution_count": 21,
   "metadata": {},
   "outputs": [
    {
     "name": "stdout",
     "output_type": "stream",
     "text": [
      "+-----+------------------------+--------------------------------+------------------------+------------------------+\n",
      "|Churn|avg(total_duration_days)|stddev_samp(total_duration_days)|max(total_duration_days)|min(total_duration_days)|\n",
      "+-----+------------------------+--------------------------------+------------------------+------------------------+\n",
      "|    1|       57.30599292200857|                36.6331481313374|       188.3117824074074|       5.165115740740741|\n",
      "|    0|       86.62061938021833|               35.34864197873643|       256.3776736111111|     0.31372685185185184|\n",
      "+-----+------------------------+--------------------------------+------------------------+------------------------+\n",
      "\n"
     ]
    }
   ],
   "source": [
    "from pyspark.sql.functions import unix_timestamp, avg, stddev, max, min\n",
    "\n",
    "# Calculate the difference in Unix timestamps (seconds) and then convert to days\n",
    "user_duration = df.withColumn(\"duration_days\", \n",
    "                              (unix_timestamp(\"ts\") - unix_timestamp(\"registration\")) / (60 * 60 * 24))\n",
    "                             \n",
    "# Aggregate the durations by churn status\n",
    "user_duration_agg = user_duration.groupBy(\"userId\", \"Churn\") \\\n",
    "                                .agg(max(\"duration_days\").alias(\"total_duration_days\"))\n",
    "\n",
    "user_duration_agg.groupby(\"Churn\").agg(avg(\"total_duration_days\"), \n",
    "                                       stddev(\"total_duration_days\"), \n",
    "                                       max(\"total_duration_days\"), \n",
    "                                       min(\"total_duration_days\")).show()\n"
   ]
  },
  {
   "cell_type": "markdown",
   "metadata": {},
   "source": [
    "## 4. Other Activities"
   ]
  },
  {
   "cell_type": "markdown",
   "metadata": {},
   "source": [
    "### a. Errors and Help Page Visits"
   ]
  },
  {
   "cell_type": "code",
   "execution_count": 22,
   "metadata": {},
   "outputs": [
    {
     "name": "stdout",
     "output_type": "stream",
     "text": [
      "+-----+------------------+------------------+\n",
      "|Churn|        avg(Error)|         avg(Help)|\n",
      "+-----+------------------+------------------+\n",
      "|    1|0.7272727272727273| 5.431818181818182|\n",
      "|    0|1.4379084967320261|7.9411764705882355|\n",
      "+-----+------------------+------------------+\n",
      "\n"
     ]
    }
   ],
   "source": [
    "# Calculate the number of errors and help page visits per user\n",
    "activity_features = [\"Error\", \"Help\"]\n",
    "\n",
    "activity_data = df.filter(col(\"page\").isin(activity_features)) \\\n",
    "                             .groupBy(\"userId\", \"Churn\", \"page\") \\\n",
    "                             .count()\n",
    "\n",
    "# Pivot table for better readability\n",
    "activity_data = activity_data.groupby(\"userId\", \"Churn\").pivot(\"page\").sum(\"count\").fillna(0)\n",
    "\n",
    "activity_data.groupby(\"Churn\").agg(avg(\"Error\"), avg(\"Help\")).show()\n"
   ]
  },
  {
   "cell_type": "markdown",
   "metadata": {},
   "source": [
    "## Plot the data"
   ]
  },
  {
   "cell_type": "code",
   "execution_count": 23,
   "metadata": {},
   "outputs": [],
   "source": [
    "# Calculate the number of songs each user has played\n",
    "songs_played = df.filter(col(\"page\") == \"NextSong\") \\\n",
    "                            .groupBy(\"userId\", \"Churn\") \\\n",
    "                            .count() \\\n",
    "                            .withColumnRenamed(\"count\", \"songs_played\")"
   ]
  },
  {
   "cell_type": "code",
   "execution_count": 24,
   "metadata": {},
   "outputs": [
    {
     "name": "stdout",
     "output_type": "stream",
     "text": [
      "+------+---------+-----+------------------------+\n",
      "|userId|sessionId|Churn|session_duration_minutes|\n",
      "+------+---------+-----+------------------------+\n",
      "|100010|      174|    0|                   323.0|\n",
      "|100010|      118|    0|      165.26666666666668|\n",
      "|100010|      133|    0|                  213.25|\n",
      "|100010|      187|    0|                    97.0|\n",
      "|100010|       78|    0|                   22.55|\n",
      "|100010|      113|    0|      148.43333333333334|\n",
      "|100010|       31|    0|      111.88333333333334|\n",
      "|200002|      114|    0|      136.98333333333332|\n",
      "|200002|      205|    0|                  497.45|\n",
      "|200002|       44|    0|       78.48333333333333|\n",
      "|200002|      174|    0|       376.6333333333333|\n",
      "|200002|      163|    0|                  496.75|\n",
      "|200002|        2|    0|                    12.1|\n",
      "|   125|      174|    1|      29.566666666666666|\n",
      "|   124|      123|    0|      1094.9666666666667|\n",
      "|   124|      333|    0|       617.2333333333333|\n",
      "|   124|      420|    0|                 1559.45|\n",
      "|   124|      517|    0|      475.68333333333334|\n",
      "|   124|      708|    0|      1726.8666666666666|\n",
      "|   124|      974|    0|       355.3666666666667|\n",
      "+------+---------+-----+------------------------+\n",
      "only showing top 20 rows\n",
      "\n"
     ]
    }
   ],
   "source": [
    "from pyspark.sql.functions import unix_timestamp\n",
    "\n",
    "# Calculate the duration of each session\n",
    "session_end = df.withColumn(\"start_ts\", unix_timestamp(col(\"ts\"))) \\\n",
    "                .groupBy(\"userId\", \"sessionId\", \"Churn\") \\\n",
    "                .agg(((max(\"start_ts\") - min(\"start_ts\")) / 60).alias(\"session_duration_minutes\"))\n",
    "\n",
    "session_end.show()"
   ]
  },
  {
   "cell_type": "code",
   "execution_count": 25,
   "metadata": {},
   "outputs": [],
   "source": [
    "# Engagement actions\n",
    "engagement_features = [\"Thumbs Up\", \"Thumbs Down\", \"Add to Playlist\", \"Add Friend\"]\n",
    "\n",
    "# Calculate engagement metrics for each user\n",
    "engagement_data = df.filter(col(\"page\").isin(engagement_features)) \\\n",
    "                               .groupBy(\"userId\", \"Churn\", \"page\") \\\n",
    "                               .count()\n",
    "\n",
    "# Pivot table for better readability\n",
    "engagement_data = engagement_data.groupby(\"userId\", \"Churn\").pivot(\"page\").sum(\"count\").fillna(0)\n"
   ]
  },
  {
   "cell_type": "code",
   "execution_count": 26,
   "metadata": {},
   "outputs": [],
   "source": [
    "# 1. Number of Songs Played\n",
    "songs_played_agg = songs_played.groupby(\"Churn\").agg(avg(\"songs_played\").alias(\"avg_songs_played\"))\n",
    "\n",
    "# 2. Average Session Duration\n",
    "session_end_agg = session_end.groupby(\"Churn\").agg(avg(\"session_duration_minutes\").alias(\"avg_session_duration\"))\n",
    "\n",
    "# 3. Average Engagement Metrics\n",
    "engagement_data_agg = engagement_data.groupby(\"Churn\").agg(\n",
    "    avg(\"Thumbs Up\").alias(\"avg_thumbs_up\"),\n",
    "    avg(\"Thumbs Down\").alias(\"avg_thumbs_down\"),\n",
    "    avg(\"Add to Playlist\").alias(\"avg_add_to_playlist\"),\n",
    "    avg(\"Add Friend\").alias(\"avg_add_friend\")\n",
    ")\n",
    "\n",
    "songs_played_pdf = songs_played_agg.toPandas()\n",
    "session_end_pdf = session_end_agg.toPandas()\n",
    "engagement_data_pdf = engagement_data_agg.toPandas()"
   ]
  },
  {
   "cell_type": "code",
   "execution_count": 27,
   "metadata": {},
   "outputs": [
    {
     "data": {
      "image/png": "[encoded data removed]",
      "text/plain": [
       "<matplotlib.figure.Figure at 0x7f31789ca5f8>"
      ]
     },
     "metadata": {},
     "output_type": "display_data"
    }
   ],
   "source": [
    "import matplotlib.pyplot as plt\n",
    "import seaborn as sns\n",
    "\n",
    "# Set up the aesthetics for the plots\n",
    "sns.set(style=\"whitegrid\")\n",
    "\n",
    "# Plot average number of songs played\n",
    "plt.figure(figsize=(10, 6))\n",
    "sns.barplot(x=\"Churn\", y=\"avg_session_duration\", data=session_end_pdf)\n",
    "plt.title(\"Session end duration by Churned vs. Non-Churned Users\")\n",
    "plt.show()"
   ]
  },
  {
   "cell_type": "code",
   "execution_count": 28,
   "metadata": {},
   "outputs": [
    {
     "data": {
      "image/png": "[encoded data removed]",
      "text/plain": [
       "<matplotlib.figure.Figure at 0x7f31788f0e10>"
      ]
     },
     "metadata": {},
     "output_type": "display_data"
    }
   ],
   "source": [
    "import matplotlib.pyplot as plt\n",
    "import seaborn as sns\n",
    "\n",
    "# Set up the aesthetics for the plots\n",
    "sns.set(style=\"whitegrid\")\n",
    "\n",
    "# Plot average number of songs played\n",
    "plt.figure(figsize=(10, 6))\n",
    "sns.barplot(x=\"Churn\", y=\"avg_songs_played\", data=songs_played_pdf)\n",
    "plt.title(\"Average Number of Songs Played by Churned vs. Non-Churned Users\")\n",
    "plt.show()"
   ]
  },
  {
   "cell_type": "code",
   "execution_count": 29,
   "metadata": {},
   "outputs": [
    {
     "data": {
      "image/png": "[encoded data removed]",
      "text/plain": [
       "<matplotlib.figure.Figure at 0x7f31789cabe0>"
      ]
     },
     "metadata": {},
     "output_type": "display_data"
    }
   ],
   "source": [
    "# Convert aggregated engagement data to Pandas DataFrame\n",
    "engagement_data_pdf = engagement_data_agg.toPandas()\n",
    "\n",
    "# Melt the DataFrame for easier plotting\n",
    "engagement_melted = engagement_data_pdf.melt(id_vars=[\"Churn\"], \n",
    "                                             value_vars=[\"avg_thumbs_up\", \"avg_thumbs_down\", \"avg_add_to_playlist\", \"avg_add_friend\"], \n",
    "                                             var_name=\"Metric\", value_name=\"Average Count\")\n",
    "\n",
    "# Plot\n",
    "plt.figure(figsize=(12, 7))\n",
    "sns.barplot(x=\"Metric\", y=\"Average Count\", hue=\"Churn\", data=engagement_melted)\n",
    "plt.title(\"Average Engagement Metrics for Churned vs. Non-Churned Users\")\n",
    "plt.xticks(rotation=45)\n",
    "plt.show()"
   ]
  },
  {
   "cell_type": "markdown",
   "metadata": {},
   "source": [
    "# Feature Engineering\n",
    "Once you've familiarized yourself with the data, build out the features you find promising to train your model on. To work with the full dataset, you can follow the following steps.\n",
    "- Write a script to extract the necessary features from the smaller subset of data\n",
    "- Ensure that your script is scalable, using the best practices discussed in Lesson 3\n",
    "- Try your script on the full data set, debugging your script if necessary\n",
    "\n",
    "If you are working in the classroom workspace, you can just extract features based on the small subset of data contained here. Be sure to transfer over this work to the larger dataset when you work on your Spark cluster."
   ]
  },
  {
   "cell_type": "code",
   "execution_count": 30,
   "metadata": {},
   "outputs": [],
   "source": [
    "def generate_feature_matrix(df):\n",
    "    '''\n",
    "    Generate feature metrics from df   \n",
    "\n",
    "    '''\n",
    "    # Convert the ts and registration columns to Unix timestamp (epoch time in seconds)\n",
    "    df = df.withColumn(\"ts_unix\", unix_timestamp(\"ts\"))\n",
    "    df = df.withColumn(\"registration_unix\", unix_timestamp(\"registration\"))\n",
    " \n",
    "    \n",
    "    # 1. Total Songs Played\n",
    "    total_songs = df.filter(col(\"page\") == \"NextSong\").groupBy(\"userId\").count().withColumnRenamed(\"count\", \"total_songs\")\n",
    "\n",
    "    # 2. Total Session Time\n",
    "    session_time = df.groupBy(\"userId\").agg(((max(\"ts_unix\") - min(\"ts_unix\")) / 60).alias(\"total_session_time\"))\n",
    "\n",
    "    # 3. Average Songs per Session\n",
    "    avg_songs = df.filter(col(\"page\") == \"NextSong\").groupBy(\"userId\", \"sessionId\").count().groupby(\"userId\").agg(avg(\"count\").alias(\"avg_songs_per_session\"))\n",
    "\n",
    "    # 4. Number of Thumbs Up/Down:\n",
    "    thumbs_up = df.filter(df.page == \"Thumbs Up\").groupBy(\"userId\").count().withColumnRenamed(\"count\", \"num_thumbs_up\")\n",
    "    thumbs_down = df.filter(df.page == \"Thumbs Down\").groupBy(\"userId\").count().withColumnRenamed(\"count\", \"num_thumbs_down\")\n",
    "\n",
    "    # 5. Total Time Since Registration:\n",
    "    total_time = df.groupBy(\"userId\").agg(((max(\"ts_unix\") - max(\"registration_unix\")) / (60 * 60 * 24)).alias(\"total_time_registered\"))\n",
    "    \n",
    "    # 6. Number of Friends Added:\n",
    "    add_friend = df.filter(df.page == \"Add Friend\").groupBy(\"userId\").count().withColumnRenamed(\"count\", \"num_friends_added\")\n",
    "\n",
    "    # 7. Total Errors Encountered:\n",
    "    errors = df.filter(df.page == \"Error\").groupBy(\"userId\").count().withColumnRenamed(\"count\", \"num_errors\")\n",
    "\n",
    "    # 8. Number of Advertisements Played:\n",
    "    ads = df.filter(df.page == \"Roll Advert\").groupBy(\"userId\").count().withColumnRenamed(\"count\", \"num_ads_played\")\n",
    "\n",
    "    # 9. Paid vs Free:\n",
    "    level_binary = df.select(\"userId\", when(df.level == \"paid\", 1).otherwise(0).alias(\"paid_level\"))\n",
    "    level_binary = level_binary.dropDuplicates([\"userId\"])\n",
    "\n",
    "    # 10. Number of Unique Artists:\n",
    "    unique_artists = df.select(\"userId\", \"artist\").dropDuplicates().groupBy(\"userId\").count().withColumnRenamed(\"count\", \"num_unique_artists\")\n",
    "\n",
    "    # 11. Number of Sessions:\n",
    "    num_sessions = df.select(\"userId\", \"sessionId\").dropDuplicates().groupBy(\"userId\").count().withColumnRenamed(\"count\", \"num_sessions\")\n",
    "\n",
    "    # 12. Average Time per Session:\n",
    "    avg_time_per_session = df.groupBy(\"userId\", \"sessionId\").agg(((max(\"ts_unix\") - min(\"ts_unix\")) / 60).alias(\"session_duration\")).groupBy(\"userId\").agg(avg(\"session_duration\").alias(\"avg_session_duration\"))\n",
    "    \n",
    "    # 13. Number of Songs Added to Playlist:\n",
    "    songs_to_playlist = df.filter(df.page == \"Add to Playlist\").groupBy(\"userId\").count().withColumnRenamed(\"count\", \"songs_added_to_playlist\")\n",
    "\n",
    "    # 14. Number of Upgrades or Downgrades:\n",
    "    upgrades = df.filter(df.page == \"Submit Upgrade\").groupBy(\"userId\").count().withColumnRenamed(\"count\", \"num_upgrades\")\n",
    "    downgrades = df.filter(df.page == \"Submit Downgrade\").groupBy(\"userId\").count().withColumnRenamed(\"count\", \"num_downgrades\")\n",
    "\n",
    "    # Combine all feature\n",
    "    feature_matrix = (\n",
    "        total_songs\n",
    "        .join(session_time, \"userId\", \"outer\")\n",
    "        .join(avg_songs, \"userId\", \"outer\")\n",
    "        .join(thumbs_up, \"userId\", \"outer\")\n",
    "        .join(thumbs_down, \"userId\", \"outer\")\n",
    "        .join(total_time, \"userId\", \"outer\")\n",
    "        .join(add_friend, \"userId\", \"outer\")\n",
    "        .join(errors, \"userId\", \"outer\")\n",
    "        .join(ads, \"userId\", \"outer\") \n",
    "        .join(level_binary, \"userId\", \"outer\") \n",
    "        .join(unique_artists, \"userId\", \"outer\") \n",
    "        .join(num_sessions, \"userId\", \"outer\") \n",
    "        .join(avg_time_per_session, \"userId\", \"outer\")\n",
    "        .join(songs_to_playlist, \"userId\", \"outer\")\n",
    "        .join(upgrades, \"userId\", \"outer\") \n",
    "        .join(downgrades, \"userId\", \"outer\") \n",
    "        .join(user_churn, on=\"userId\", how=\"left\")\n",
    "    )\n",
    "\n",
    "    # Fill null values (for users who might not have any count for some events)\n",
    "    feature_matrix = feature_matrix.na.fill(0)\n",
    "    \n",
    "    return feature_matrix\n"
   ]
  },
  {
   "cell_type": "code",
   "execution_count": 31,
   "metadata": {
    "scrolled": true
   },
   "outputs": [
    {
     "name": "stdout",
     "output_type": "stream",
     "text": [
      "+------+-----------+------------------+---------------------+-------------+---------------+---------------------+-----------------+----------+--------------+----------+------------------+------------+--------------------+-----------------------+------------+--------------+-----+\n",
      "|userId|total_songs|total_session_time|avg_songs_per_session|num_thumbs_up|num_thumbs_down|total_time_registered|num_friends_added|num_errors|num_ads_played|paid_level|num_unique_artists|num_sessions|avg_session_duration|songs_added_to_playlist|num_upgrades|num_downgrades|Churn|\n",
      "+------+-----------+------------------+---------------------+-------------+---------------+---------------------+-----------------+----------+--------------+----------+------------------+------------+--------------------+-----------------------+------------+--------------+-----+\n",
      "|100010|275        |63673.63333333333 |39.285714285714285   |17           |5              |55.64365740740741    |4                |0         |52            |0         |253               |7           |154.48333333333335  |7                      |0           |0             |0    |\n",
      "|200002|387        |65515.4           |64.5                 |21           |6              |70.07462962962963    |4                |0         |7             |0         |340               |6           |266.4               |8                      |1           |0             |0    |\n",
      "|125   |8          |29.566666666666666|8.0                  |0            |0              |71.31688657407408    |0                |0         |1             |0         |9                 |1           |29.566666666666666  |0                      |0           |0             |1    |\n",
      "|124   |4079       |86395.6           |145.67857142857142   |171          |41             |131.55591435185184   |74               |6         |4             |1         |2233              |29          |578.9942528735633   |118                    |0           |0             |0    |\n",
      "|51    |2111       |22722.333333333332|211.1                |100          |21             |19.455844907407407   |28               |1         |0             |1         |1386              |10          |872.3566666666668   |52                     |0           |0             |1    |\n",
      "|7     |150        |73129.03333333334 |21.428571428571427   |7            |1              |72.77818287037037    |1                |1         |16            |0         |143               |7           |87.64047619047619   |5                      |0           |0             |0    |\n",
      "|15    |1914       |78873.38333333333 |136.71428571428572   |81           |14             |56.513576388888886   |31               |2         |1             |1         |1303              |15          |528.2833333333333   |59                     |0           |0             |0    |\n",
      "|54    |2841       |61627.96666666667 |81.17142857142858    |163          |29             |110.75168981481481   |33               |1         |47            |1         |1745              |37          |322.2896396396396   |72                     |1           |1             |1    |\n",
      "|155   |820        |37192.083333333336|136.66666666666666   |58           |3              |23.556018518518517   |11               |3         |8             |1         |644               |6           |548.5722222222222   |24                     |1           |0             |0    |\n",
      "|100014|257        |59391.88333333333 |42.833333333333336   |17           |3              |85.08340277777778    |6                |0         |2             |1         |234               |6           |184.8138888888889   |7                      |0           |0             |1    |\n",
      "+------+-----------+------------------+---------------------+-------------+---------------+---------------------+-----------------+----------+--------------+----------+------------------+------------+--------------------+-----------------------+------------+--------------+-----+\n",
      "only showing top 10 rows\n",
      "\n",
      "CPU times: user 65.3 ms, sys: 21 ms, total: 86.3 ms\n",
      "Wall time: 3min 36s\n"
     ]
    }
   ],
   "source": [
    "%%time\n",
    "feature_matrix = generate_feature_matrix(df)\n",
    "feature_matrix.show(10, truncate = False)"
   ]
  },
  {
   "cell_type": "code",
   "execution_count": 32,
   "metadata": {},
   "outputs": [
    {
     "name": "stdout",
     "output_type": "stream",
     "text": [
      "root\n",
      " |-- userId: string (nullable = true)\n",
      " |-- total_songs: long (nullable = true)\n",
      " |-- total_session_time: double (nullable = false)\n",
      " |-- avg_songs_per_session: double (nullable = false)\n",
      " |-- num_thumbs_up: long (nullable = true)\n",
      " |-- num_thumbs_down: long (nullable = true)\n",
      " |-- total_time_registered: double (nullable = false)\n",
      " |-- num_friends_added: long (nullable = true)\n",
      " |-- num_errors: long (nullable = true)\n",
      " |-- num_ads_played: long (nullable = true)\n",
      " |-- paid_level: integer (nullable = true)\n",
      " |-- num_unique_artists: long (nullable = true)\n",
      " |-- num_sessions: long (nullable = true)\n",
      " |-- avg_session_duration: double (nullable = false)\n",
      " |-- songs_added_to_playlist: long (nullable = true)\n",
      " |-- num_upgrades: long (nullable = true)\n",
      " |-- num_downgrades: long (nullable = true)\n",
      " |-- Churn: integer (nullable = true)\n",
      "\n"
     ]
    }
   ],
   "source": [
    "feature_matrix.printSchema()"
   ]
  },
  {
   "cell_type": "markdown",
   "metadata": {},
   "source": [
    "# Modeling\n",
    "Split the full dataset into train, test, and validation sets. Test out several of the machine learning methods you learned. Evaluate the accuracy of the various models, tuning parameters as necessary. Determine your winning model based on test accuracy and report results on the validation set. Since the churned users are a fairly small subset, I suggest using F1 score as the metric to optimize."
   ]
  },
  {
   "cell_type": "code",
   "execution_count": 33,
   "metadata": {},
   "outputs": [],
   "source": [
    "# List of features\n",
    "feature_cols = ['total_songs', 'total_session_time', 'avg_songs_per_session', 'num_thumbs_up', \n",
    "                'num_thumbs_down', 'total_time_registered', 'num_friends_added', 'num_errors', \n",
    "                'num_ads_played', 'paid_level']\n",
    "\n",
    "# add more cols\n",
    "feature_cols.extend([\"num_unique_artists\", \n",
    "                     \"num_sessions\", \n",
    "                     \"avg_session_duration\", \n",
    "                     \"songs_added_to_playlist\", \n",
    "                     \"num_upgrades\", \"num_downgrades\"])"
   ]
  },
  {
   "cell_type": "code",
   "execution_count": 34,
   "metadata": {},
   "outputs": [],
   "source": [
    "# from pyspark.ml import Pipeline\n",
    "# from pyspark.ml.feature import VectorAssembler\n",
    "# from pyspark.ml.classification import RandomForestClassifier\n",
    "\n",
    "# def train_random_forest(data, features, target_col, num_trees=100, max_depth=5):\n",
    "#     \"\"\"\n",
    "#     Train a Random Forest Classifier using PySpark's MLlib.\n",
    "    \n",
    "#     Parameters:\n",
    "#     - data: DataFrame containing the training data.\n",
    "#     - features: List of column names in the data DataFrame to be used as features.\n",
    "#     - target_col: Column name in the data DataFrame to be used as target.\n",
    "#     - num_trees: Number of trees in the random forest.\n",
    "#     - max_depth: Maximum depth of each tree in the random forest.\n",
    "    \n",
    "#     Returns:\n",
    "#     - Pipeline model trained on the input data.\n",
    "#     \"\"\"\n",
    "    \n",
    "#     # Assemble features\n",
    "#     assembler = VectorAssembler(inputCols=features, outputCol=\"features_vec\")\n",
    "    \n",
    "#     # Initialize Random Forest Classifier\n",
    "#     rf = RandomForestClassifier(labelCol=target_col, featuresCol=\"features_vec\", numTrees=num_trees, maxDepth=max_depth)\n",
    "    \n",
    "#     # Set up the pipeline\n",
    "#     pipeline = Pipeline(stages=[assembler, rf])\n",
    "    \n",
    "#     # Train the model\n",
    "#     model = pipeline.fit(data)\n",
    "    \n",
    "#     return model"
   ]
  },
  {
   "cell_type": "code",
   "execution_count": 42,
   "metadata": {},
   "outputs": [],
   "source": [
    "from pyspark.ml.tuning import TrainValidationSplit\n",
    "from pyspark.ml import Pipeline\n",
    "from pyspark.ml.classification import RandomForestClassifier\n",
    "from pyspark.ml.feature import VectorAssembler\n",
    "from pyspark.ml.evaluation import MulticlassClassificationEvaluator\n",
    "from pyspark.ml.tuning import CrossValidator, ParamGridBuilder\n",
    "\n",
    "def split_dataset(data, train_fraction=0.7, test_fraction=0.15, seed=42):\n",
    "    \"\"\"\n",
    "    Split the data into train, test, and validation sets.\n",
    "    \"\"\"\n",
    "    train, rest = data.randomSplit([train_fraction, 1 - train_fraction], seed=seed)\n",
    "    test, validation = rest.randomSplit([test_fraction / (1 - train_fraction), \n",
    "                                         1 - test_fraction / (1 - train_fraction)], \n",
    "                                        seed=seed)\n",
    "    return train, test, validation\n",
    "\n",
    "\n",
    "\n",
    "def modeling(data, features, target_col):\n",
    "    \"\"\"\n",
    "    Model the data using RandomForest.\n",
    "    \"\"\"\n",
    "    assembler = VectorAssembler(inputCols=features, outputCol=\"features_vec\")\n",
    "    \n",
    "    rf = RandomForestClassifier(labelCol=target_col, featuresCol=\"features_vec\", numTrees=10)\n",
    "    \n",
    "    pipeline = Pipeline(stages=[assembler, rf])\n",
    "    model = pipeline.fit(data)\n",
    "    \n",
    "    return model\n",
    "\n",
    "def evaluation(model, test_data):\n",
    "    \"\"\"\n",
    "    Evaluate the model's performance.\n",
    "    \"\"\"\n",
    "    predictions = model.transform(test_data)\n",
    "    evaluator = MulticlassClassificationEvaluator(labelCol=\"Churn\", metricName=\"f1\")\n",
    "    f1_score = evaluator.evaluate(predictions)\n",
    "    \n",
    "    return f1_score\n",
    "\n",
    "from pyspark.ml.tuning import TrainValidationSplit\n",
    "\n",
    "def optimized_hyperparameter_tuning(train_data, features, target_col):\n",
    "    \"\"\"\n",
    "    Perform optimized hyperparameter tuning.\n",
    "    \"\"\"\n",
    "    assembler = VectorAssembler(inputCols=features, outputCol=\"features_vec\")\n",
    "    rf = RandomForestClassifier(labelCol=target_col, featuresCol=\"features_vec\", featureSubsetStrategy=\"sqrt\")\n",
    "    \n",
    "    pipeline = Pipeline(stages=[assembler, rf])\n",
    "    \n",
    "    paramGrid = ParamGridBuilder() \\\n",
    "        .addGrid(rf.numTrees, [10, 20]) \\\n",
    "        .addGrid(rf.maxDepth, [5, 10]) \\\n",
    "        .build()\n",
    "    \n",
    "    # Using TrainValidationSplit for faster tuning\n",
    "    split = TrainValidationSplit(estimator=pipeline,\n",
    "                                 estimatorParamMaps=paramGrid,\n",
    "                                 evaluator=MulticlassClassificationEvaluator(labelCol=target_col, metricName=\"f1\"),\n",
    "                                 trainRatio=0.8)\n",
    "    \n",
    "    bestModel = split.fit(train_data)\n",
    "    return bestModel\n",
    "\n"
   ]
  },
  {
   "cell_type": "code",
   "execution_count": 36,
   "metadata": {},
   "outputs": [],
   "source": [
    "# split the data\n",
    "train_data, test_data, validation_data = split_dataset(feature_matrix)"
   ]
  },
  {
   "cell_type": "code",
   "execution_count": 37,
   "metadata": {},
   "outputs": [],
   "source": [
    "# Modelling\n",
    "rf_model = modeling(train_data, features=feature_cols, target_col=\"Churn\")"
   ]
  },
  {
   "cell_type": "code",
   "execution_count": 38,
   "metadata": {},
   "outputs": [
    {
     "name": "stdout",
     "output_type": "stream",
     "text": [
      "F1 Score on Test Data: 0.9131652661064426\n"
     ]
    }
   ],
   "source": [
    "# Evaluation \n",
    "f1_test = evaluation(rf_model, test_data)\n",
    "print(f\"F1 Score on Test Data: {f1_test}\")"
   ]
  },
  {
   "cell_type": "code",
   "execution_count": 43,
   "metadata": {},
   "outputs": [
    {
     "name": "stdout",
     "output_type": "stream",
     "text": [
      "Feature Importances:\n",
      "total_session_time: 0.27751268109056726\n",
      "total_time_registered: 0.14659233398892035\n",
      "songs_added_to_playlist: 0.08827309757669927\n",
      "num_friends_added: 0.06586795618673666\n",
      "avg_session_duration: 0.0653964215421873\n",
      "num_thumbs_down: 0.05566514362714931\n",
      "total_songs: 0.04961047220027176\n",
      "num_thumbs_up: 0.04937978115684974\n",
      "avg_songs_per_session: 0.04680448172725686\n",
      "num_unique_artists: 0.04170472477104371\n",
      "num_sessions: 0.04137576262158161\n",
      "num_ads_played: 0.03341217249618633\n",
      "num_downgrades: 0.01924360498483394\n",
      "paid_level: 0.010490742708864265\n",
      "num_upgrades: 0.005777770882040898\n",
      "num_errors: 0.002892852438810847\n"
     ]
    }
   ],
   "source": [
    "# Interpret the Model:\n",
    "importances = rf_model.stages[-1].featureImportances\n",
    "importance_list = [(feature, importance) for feature, importance in zip(feature_cols, importances)]\n",
    "sorted_importance_list = sorted(importance_list, key=lambda x: x[1], reverse=True)\n",
    "\n",
    "print(\"Feature Importances:\")\n",
    "for feature, importance in sorted_importance_list:\n",
    "    print(f\"{feature}: {importance}\")"
   ]
  },
  {
   "cell_type": "code",
   "execution_count": null,
   "metadata": {},
   "outputs": [],
   "source": [
    "# Hyperparameter tuning\n",
    "best_model = hyperparameter_tuning(train_data, features=feature_cols, target_col=\"Churn\")"
   ]
  },
  {
   "cell_type": "code",
   "execution_count": null,
   "metadata": {},
   "outputs": [],
   "source": [
    "# Re-Evaluation \n",
    "f1_test_tuned = evaluation(best_model, test_data)\n",
    "print(f\"F1 Score on Test Data with Tuned Model: {f1_test_tuned}\")"
   ]
  },
  {
   "cell_type": "code",
   "execution_count": null,
   "metadata": {},
   "outputs": [],
   "source": [
    "# FInal evaluation on validation data\n",
    "final_f1_score = evaluation(best_model, validation_data)\n",
    "print(f\"Final Model F1 Score on Validation Data: {final_f1_score}\")"
   ]
  },
  {
   "cell_type": "markdown",
   "metadata": {},
   "source": [
    "# Final Steps\n",
    "Clean up your code, adding comments and renaming variables to make the code easier to read and maintain. Refer to the Spark Project Overview page and Data Scientist Capstone Project Rubric to make sure you are including all components of the capstone project and meet all expectations. Remember, this includes thorough documentation in a README file in a Github repository, as well as a web app or blog post."
   ]
  },
  {
   "cell_type": "code",
   "execution_count": null,
   "metadata": {},
   "outputs": [],
   "source": []
  }
 ],
 "metadata": {
  "kernelspec": {
   "display_name": "Python 3",
   "language": "python",
   "name": "python3"
  },
  "language_info": {
   "codemirror_mode": {
    "name": "ipython",
    "version": 3
   },
   "file_extension": ".py",
   "mimetype": "text/x-python",
   "name": "python",
   "nbconvert_exporter": "python",
   "pygments_lexer": "ipython3",
   "version": "3.6.3"
  }
 },
 "nbformat": 4,
 "nbformat_minor": 2
}
